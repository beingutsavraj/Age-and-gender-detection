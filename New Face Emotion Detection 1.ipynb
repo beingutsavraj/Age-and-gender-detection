{
 "cells": [
  {
   "cell_type": "code",
   "execution_count": 29,
   "metadata": {},
   "outputs": [],
   "source": [
    "import pandas as pd\n",
    "import numpy as np\n",
    "import progressbar"
   ]
  },
  {
   "cell_type": "code",
   "execution_count": 2,
   "metadata": {},
   "outputs": [],
   "source": [
    "df = pd.read_csv(\"fer2013.csv\")"
   ]
  },
  {
   "cell_type": "code",
   "execution_count": 33,
   "metadata": {},
   "outputs": [
    {
     "data": {
      "text/plain": [
       "(35887, 3)"
      ]
     },
     "execution_count": 33,
     "metadata": {},
     "output_type": "execute_result"
    }
   ],
   "source": [
    "df.shape"
   ]
  },
  {
   "cell_type": "code",
   "execution_count": 37,
   "metadata": {},
   "outputs": [],
   "source": [
    "f = open(\"fer2013.csv\")\n",
    "f.__next__()\n",
    "trainImage, trainLables = [],[]\n",
    "valImage, valLables = [],[]\n",
    "testImage, testLables = [],[]"
   ]
  },
  {
   "cell_type": "code",
   "execution_count": 38,
   "metadata": {},
   "outputs": [
    {
     "name": "stderr",
     "output_type": "stream",
     "text": [
      "Image Processing100% |##########################################| Time: 0:00:21\n"
     ]
    }
   ],
   "source": [
    "widgets = [\"Image Processing\", progressbar.Percentage(), \" \", progressbar.Bar(), \" \", progressbar.ETA()]\n",
    "pbar = progressbar.ProgressBar(maxval=35887, widgets=widgets).start()\n",
    "\n",
    "for n, i in enumerate(f):\n",
    "    lable, image, uses = i.strip().split(\",\")\n",
    "    image = np.array(image.split(\" \"), dtype = \"uint8\")\n",
    "    image = image.reshape((48,48, 1))\n",
    "    if uses == \"Training\":\n",
    "        trainImage.append(image)\n",
    "        trainLables.append(lable)\n",
    "    elif uses == \"PrivateTest\":\n",
    "        valImage.append(image)\n",
    "        valLables.append(lable)\n",
    "    else:\n",
    "        testImage.append(image)\n",
    "        testLables.append(lable)\n",
    "    pbar.update(n)\n",
    "pbar.finish()\n",
    "        \n",
    "        \n",
    "        \n",
    "        "
   ]
  },
  {
   "cell_type": "code",
   "execution_count": 52,
   "metadata": {},
   "outputs": [],
   "source": [
    "trainImage = np.array(trainImage)\n",
    "valImage = np.array(valImage)\n",
    "testImage = np.array(testImage)"
   ]
  },
  {
   "cell_type": "code",
   "execution_count": 39,
   "metadata": {},
   "outputs": [],
   "source": [
    "from tensorflow.keras.models import Sequential\n",
    "from tensorflow.keras.layers import  Conv2D, MaxPooling2D, Flatten, Dense, Dropout\n",
    "\n",
    "from tensorflow.keras.preprocessing.image import img_to_array, load_img, ImageDataGenerator\n",
    "from sklearn.model_selection import train_test_split\n",
    "from tensorflow.keras.utils import to_categorical\n",
    "from imutils import paths\n",
    "import numpy as np\n",
    "import cv2\n",
    "import os\n",
    "import progressbar"
   ]
  },
  {
   "cell_type": "code",
   "execution_count": 40,
   "metadata": {},
   "outputs": [],
   "source": [
    "def LeNet(width, height, depth, classes):\n",
    "    model = Sequential()\n",
    "\n",
    "    model.add(Conv2D(20, (5,5), activation = \"relu\", input_shape = (width, height, depth)))\n",
    "    model.add(MaxPooling2D(pool_size = (2,2), strides = (2,2)))\n",
    "\n",
    "\n",
    "    model.add(Conv2D(50, (5,5), activation = \"relu\"))\n",
    "    model.add(MaxPooling2D(pool_size = (2,2), strides = (2,2)))\n",
    "\n",
    "    model.add(Flatten())\n",
    "    model.add(Dense(500, activation = \"relu\"))\n",
    "\n",
    "    model.add(Dense(classes, activation = \"softmax\"))\n",
    "\n",
    "    return model"
   ]
  },
  {
   "cell_type": "code",
   "execution_count": 41,
   "metadata": {},
   "outputs": [],
   "source": [
    "augmentation = ImageDataGenerator(rotation_range=30, width_shift_range=0.1, \n",
    "                                  height_shift_range=0.1, zoom_range=0.2,\n",
    "                                  horizontal_flip=True, fill_mode=\"nearest\")"
   ]
  },
  {
   "cell_type": "code",
   "execution_count": 47,
   "metadata": {},
   "outputs": [],
   "source": [
    "from sklearn.preprocessing import LabelBinarizer\n",
    "\n",
    "trainLabels = LabelBinarizer().fit_transform(trainLables)\n",
    "valLabels = LabelBinarizer().fit_transform(valLables)\n",
    "testLabels = LabelBinarizer().fit_transform(testLables)\n"
   ]
  },
  {
   "cell_type": "code",
   "execution_count": null,
   "metadata": {},
   "outputs": [],
   "source": [
    "\n",
    "model = LeNet(48, 48, 1, len(trainLabels[0]))\n",
    "model.compile(loss = \"binary_crossentropy\", optimizer=\"adam\", metrics=[\"accuracy\"])\n",
    "print(\"Model is Going to Train.....\")\n",
    "H = model.fit_generator(augmentation.flow(trainImage, trainLabels, batch_size = 32), validation_data=(valImage, valLabels), steps_per_epoch=len(trainImage)//32, epochs=10, verbose=1)             \n"
   ]
  },
  {
   "cell_type": "code",
   "execution_count": null,
   "metadata": {},
   "outputs": [],
   "source": []
  },
  {
   "cell_type": "code",
   "execution_count": 65,
   "metadata": {},
   "outputs": [],
   "source": [
    "#### Live Emotion Prediction/\n",
    "\n",
    "\n",
    "Emotion = [\"Angry\", \"Disgust\", \"Fear\", \"Happy\", \"Sad\", \"Surprise\", \"Neutral\"]\n",
    "    "
   ]
  },
  {
   "cell_type": "code",
   "execution_count": null,
   "metadata": {},
   "outputs": [],
   "source": []
  }
 ],
 "metadata": {
  "kernelspec": {
   "display_name": "Python 3",
   "language": "python",
   "name": "python3"
  },
  "language_info": {
   "codemirror_mode": {
    "name": "ipython",
    "version": 3
   },
   "file_extension": ".py",
   "mimetype": "text/x-python",
   "name": "python",
   "nbconvert_exporter": "python",
   "pygments_lexer": "ipython3",
   "version": "3.7.6"
  }
 },
 "nbformat": 4,
 "nbformat_minor": 4
}
